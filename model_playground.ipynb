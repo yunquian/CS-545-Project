{
 "cells": [
  {
   "cell_type": "code",
   "execution_count": null,
   "metadata": {
    "collapsed": true
   },
   "outputs": [],
   "source": [
    "import torch\n",
    "import torch.nn.functional as F\n",
    "from torch import optim\n",
    "\n",
    "from dataset import MetaDataset\n",
    "from metadata.vcc import SanityMetadata\n",
    "\n",
    "from models.vae import ToyVAE\n",
    "from maml import reptile_train"
   ]
  },
  {
   "cell_type": "code",
   "execution_count": null,
   "outputs": [],
   "source": [
    "dataset = MetaDataset(SanityMetadata())\n",
    "dataset.read_and_preprocess()"
   ],
   "metadata": {
    "collapsed": false,
    "pycharm": {
     "name": "#%%\n"
    }
   }
  },
  {
   "cell_type": "code",
   "execution_count": null,
   "outputs": [],
   "source": [
    "device = torch.device('cpu')\n",
    "model = ToyVAE()\n",
    "\n",
    "\n",
    "def criterion(recon_y, y):\n",
    "    BCE = F.binary_cross_entropy(recon_y, y, reduction='sum')\n",
    "    # BCE = F.binary_cross_entropy(recon_x, x.view(-1, 784),\n",
    "    #                              reduce=True, size_average=False)\n",
    "    # KLD = -0.5 * torch.sum(1 + logvar - mu.pow(2) - logvar.exp())\n",
    "    # return BCE + KLD\n",
    "    return BCE\n",
    "\n",
    "\n",
    "optimizer = optim.Adam(model.parameters(), lr=1e-3, weight_decay=0.0)\n",
    "\n",
    "\n",
    "def train(trained_model, x, y, n_inner_loop=4):\n",
    "    trained_model.train()\n",
    "    x = x.to(device)\n",
    "    for _ in range(n_inner_loop):\n",
    "        optimizer.zero_grad()\n",
    "        out = trained_model(x)\n",
    "        loss = criterion(out, y)\n",
    "        loss.backward()\n",
    "        optimizer.step()\n",
    "\n",
    "\n",
    "reptile_train(model, dataset, n_shot=20, n_iter_outer=1000,\n",
    "              outer_step_size=1e-2, inner_train_func=train)\n",
    "\n",
    "\n"
   ],
   "metadata": {
    "collapsed": false,
    "pycharm": {
     "name": "#%%\n"
    }
   }
  }
 ],
 "metadata": {
  "kernelspec": {
   "display_name": "Python 3",
   "language": "python",
   "name": "python3"
  },
  "language_info": {
   "codemirror_mode": {
    "name": "ipython",
    "version": 2
   },
   "file_extension": ".py",
   "mimetype": "text/x-python",
   "name": "python",
   "nbconvert_exporter": "python",
   "pygments_lexer": "ipython2",
   "version": "2.7.6"
  }
 },
 "nbformat": 4,
 "nbformat_minor": 0
}